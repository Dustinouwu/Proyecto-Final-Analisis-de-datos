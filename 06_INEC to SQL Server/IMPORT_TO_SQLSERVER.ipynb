{
 "cells": [
  {
   "cell_type": "code",
   "execution_count": 1,
   "metadata": {},
   "outputs": [
    {
     "name": "stdout",
     "output_type": "stream",
     "text": [
      "Defaulting to user installation because normal site-packages is not writeable\n",
      "Collecting pypyodbc\n",
      "  Downloading pypyodbc-1.3.6.tar.gz (24 kB)\n",
      "  Preparing metadata (setup.py): started\n",
      "  Preparing metadata (setup.py): finished with status 'done'\n",
      "Requirement already satisfied: setuptools in c:\\users\\miguel\\appdata\\roaming\\python\\python310\\site-packages (from pypyodbc) (58.5.3)\n",
      "Using legacy 'setup.py install' for pypyodbc, since package 'wheel' is not installed.\n",
      "Installing collected packages: pypyodbc\n",
      "  Running setup.py install for pypyodbc: started\n",
      "  Running setup.py install for pypyodbc: finished with status 'done'\n",
      "Successfully installed pypyodbc-1.3.6\n",
      "Note: you may need to restart the kernel to use updated packages.\n"
     ]
    }
   ],
   "source": [
    "pip install pypyodbc"
   ]
  },
  {
   "cell_type": "code",
   "execution_count": 1,
   "metadata": {},
   "outputs": [],
   "source": [
    "import pypyodbc as odbc\n",
    "import pandas as pd\n",
    "import pyodbc"
   ]
  },
  {
   "cell_type": "code",
   "execution_count": 2,
   "metadata": {},
   "outputs": [],
   "source": [
    "datos = pd.read_csv('D:\\Miguel\\Documents\\Analisis\\Bases de datos_Proyecto\\INEC\\estudiantes.csv', encoding='latin1', sep=',')\n",
    "df = pd.DataFrame(datos)"
   ]
  },
  {
   "cell_type": "code",
   "execution_count": 3,
   "metadata": {},
   "outputs": [],
   "source": [
    "#Conectar con el servidor SQL SERVER\n",
    "conn = pyodbc.connect('Driver={SQL Server};'\n",
    "                      'Server=DESKTOP-QTJIJML;'\n",
    "                      'Database=ESTUDIANTE;'\n",
    "                      'Trusted_Connection=yes;')\n",
    "\n",
    "cursor = conn.cursor()"
   ]
  },
  {
   "cell_type": "code",
   "execution_count": 4,
   "metadata": {},
   "outputs": [
    {
     "data": {
      "text/plain": [
       "<pyodbc.Cursor at 0x1df70285db0>"
      ]
     },
     "execution_count": 4,
     "metadata": {},
     "output_type": "execute_result"
    }
   ],
   "source": [
    "cursor.execute('''\n",
    "\t   CREATE TABLE estudiantes (\n",
    "\t\t\tProvincia varchar(50),\n",
    "\t\t\tCanton varchar(50),\n",
    "            Parroquia varchar(50),\n",
    "            Femenino varchar(50),\n",
    "            Masculino varchar(50),\n",
    "            Textbox17 varchar(50),\n",
    "            Textbox6 varchar(50),\n",
    "            Textbox7 varchar(50),\n",
    "            Textbox18 varchar(50),\n",
    "\t\t\t)\n",
    "               ''')"
   ]
  },
  {
   "cell_type": "code",
   "execution_count": 5,
   "metadata": {},
   "outputs": [],
   "source": [
    "for row in df.itertuples():\n",
    "   \n",
    "                 doc={}\n",
    "                 doc['Provincia']=row[0],\n",
    "                 doc['Canton']=row[1],\n",
    "                 doc['Parroquia']=row[2],\n",
    "                 doc['Femenino']=row[3],\n",
    "                 doc['Masculino']=row[4],\n",
    "                 doc['Textbox17']=row[5],\n",
    "                 doc['Textbox6']=row[6],\n",
    "                 doc['Textbox7']=row[7],\n",
    "                 doc['Textbox18']=row[8]\n"
   ]
  }
 ],
 "metadata": {
  "interpreter": {
   "hash": "b89b5cfaba6639976dc87ff2fec6d58faec662063367e2c229c520fe71072417"
  },
  "kernelspec": {
   "display_name": "Python 3.10.0 64-bit",
   "language": "python",
   "name": "python3"
  },
  "language_info": {
   "codemirror_mode": {
    "name": "ipython",
    "version": 3
   },
   "file_extension": ".py",
   "mimetype": "text/x-python",
   "name": "python",
   "nbconvert_exporter": "python",
   "pygments_lexer": "ipython3",
   "version": "3.10.0"
  },
  "orig_nbformat": 4
 },
 "nbformat": 4,
 "nbformat_minor": 2
}
